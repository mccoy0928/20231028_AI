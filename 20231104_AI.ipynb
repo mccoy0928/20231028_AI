{
  "nbformat": 4,
  "nbformat_minor": 0,
  "metadata": {
    "colab": {
      "provenance": [],
      "authorship_tag": "ABX9TyNrwpZFBrl3KMv2EN8d7KKx",
      "include_colab_link": true
    },
    "kernelspec": {
      "name": "python3",
      "display_name": "Python 3"
    },
    "language_info": {
      "name": "python"
    }
  },
  "cells": [
    {
      "cell_type": "markdown",
      "metadata": {
        "id": "view-in-github",
        "colab_type": "text"
      },
      "source": [
        "<a href=\"https://colab.research.google.com/github/mccoy0928/20231028_AI/blob/main/20231104_AI.ipynb\" target=\"_parent\"><img src=\"https://colab.research.google.com/assets/colab-badge.svg\" alt=\"Open In Colab\"/></a>"
      ]
    },
    {
      "cell_type": "markdown",
      "source": [
        "# 20231104_AI 2nd\n",
        "\n"
      ],
      "metadata": {
        "id": "k58AxXi2zJ8O"
      }
    },
    {
      "cell_type": "code",
      "execution_count": 1,
      "metadata": {
        "colab": {
          "base_uri": "https://localhost:8080/"
        },
        "id": "ydUMrxd9zH1D",
        "outputId": "f32d36c3-faee-4bad-c329-b20dc6ab7203"
      },
      "outputs": [
        {
          "output_type": "stream",
          "name": "stdout",
          "text": [
            "不用帶傘\n",
            "不用帶傘\n",
            "5050\n"
          ]
        }
      ],
      "source": [
        "是否下雨 = False\n",
        "\n",
        "if 是否下雨:\n",
        "    print('請帶傘')\n",
        "else:\n",
        "    print('不用帶傘')\n",
        "\n",
        "\n",
        "今天天氣 = '晴天'\n",
        "if 今天天氣 == '晴天':\n",
        "    print('不用帶傘')\n",
        "else:\n",
        "    print('請帶傘')\n",
        "# 1 to 100 summery\n",
        "tt = 0\n",
        "for i in range(1, 101):\n",
        "    tt += i\n",
        "print(tt)\n"
      ]
    },
    {
      "cell_type": "code",
      "source": [
        "# 測試當下電腦在3秒累加速度\n",
        "import time\n",
        "time.time()\n",
        "i = 0\n",
        "now=time.time()\n",
        "while time.time()-now < 3:\n",
        "    i += 1\n",
        "print(i)"
      ],
      "metadata": {
        "colab": {
          "base_uri": "https://localhost:8080/"
        },
        "id": "qihwV_dT8pGY",
        "outputId": "eec5e70f-f32a-4463-8d2b-020882704d82"
      },
      "execution_count": 2,
      "outputs": [
        {
          "output_type": "stream",
          "name": "stdout",
          "text": [
            "20132781\n"
          ]
        }
      ]
    },
    {
      "cell_type": "code",
      "source": [
        "# countinue\n",
        "# break\n",
        "for i in range(10):\n",
        "    if i == 5:\n",
        "        break #continue\n",
        "    print(i)\n"
      ],
      "metadata": {
        "colab": {
          "base_uri": "https://localhost:8080/"
        },
        "id": "cjwYadT09vSS",
        "outputId": "df037a08-9000-4dda-ce63-becce8c77d13"
      },
      "execution_count": 4,
      "outputs": [
        {
          "output_type": "stream",
          "name": "stdout",
          "text": [
            "0\n",
            "1\n",
            "2\n",
            "3\n",
            "4\n"
          ]
        }
      ]
    },
    {
      "cell_type": "code",
      "source": [
        "for i in range(10):\n",
        "    if i == 5:\n",
        "      continue\n",
        "    print(i)\n"
      ],
      "metadata": {
        "colab": {
          "base_uri": "https://localhost:8080/"
        },
        "id": "ZayH-t1P9y7u",
        "outputId": "23b9d072-3085-4a9e-ccb8-142304936db7"
      },
      "execution_count": 3,
      "outputs": [
        {
          "output_type": "stream",
          "name": "stdout",
          "text": [
            "0\n",
            "1\n",
            "2\n",
            "3\n",
            "4\n",
            "6\n",
            "7\n",
            "8\n",
            "9\n"
          ]
        }
      ]
    },
    {
      "cell_type": "code",
      "source": [
        "import random\n",
        "random.randint(1, 99)\n",
        "\n",
        "# 關主訂出密碼\n",
        "# 向使用者詢問數值\n",
        "# 判斷參加者的數值  更大或更小或者中獎\n",
        "\n",
        "# ans=123\n",
        "ans = random.randint(1,999)\n",
        "x = 0\n",
        "while x != ans:\n",
        "    x = int(input('key a number:'))\n",
        "    if x > ans:\n",
        "        print('Your ans too big')\n",
        "\n",
        "    elif x < ans:\n",
        "        print('Your ans is small...')\n",
        "\n",
        "    else:\n",
        "        print('Bingo!', 'ans is',ans)\n",
        "        break\n",
        ""
      ],
      "metadata": {
        "id": "TeH3l7NLA5rZ"
      },
      "execution_count": null,
      "outputs": []
    },
    {
      "cell_type": "code",
      "source": [
        "# 採用flag語法\n",
        "is_pass_flag = True\n",
        "while is_pass_flag:\n",
        "    x = int(input('key a number:'))\n",
        "    if x > ans:\n",
        "        print('Your ans too big')\n",
        "\n",
        "    elif x < ans:\n",
        "        print('Your ans is small...')\n",
        "\n",
        "    else:\n",
        "        print('Bingo!', 'ans is',ans)\n",
        "        is_pass_flag = False"
      ],
      "metadata": {
        "id": "o3IBG-CLFohR"
      },
      "execution_count": null,
      "outputs": []
    },
    {
      "cell_type": "code",
      "source": [
        "ans = random.randint(1,999)\n",
        "floor = 1\n",
        "ceil = 999\n",
        "x = 0\n",
        "while x != ans:\n",
        "    x = int(input('key a number:'))\n",
        "    if x > ans:\n",
        "        ceil = x\n",
        "        print(f'Your ans too big, {floor}~{ceil}')\n",
        "\n",
        "    elif x < ans:\n",
        "        floor = x\n",
        "        print(f'Your ans is small...{floor}~{ceil}')\n",
        "\n",
        "    else:\n",
        "        print('Bingo!', 'ans is',ans)\n",
        "        break"
      ],
      "metadata": {
        "id": "iA2vVAEBHyF-"
      },
      "execution_count": null,
      "outputs": []
    },
    {
      "cell_type": "code",
      "source": [
        "# list串列\n",
        "a = [4, 5, 6, 7, 8, 9]\n",
        "\n",
        "a[0]\n",
        "# 取前三個\n",
        "a[:-3]\n",
        "\n",
        "# 取後三個值\n",
        "a[-3:]\n",
        "\n",
        "# 多維度list\n",
        "b = [[1], a]\n",
        "b[1][2]\n",
        "\n",
        "\n",
        "# 課堂測驗\n",
        "score = [85, 79, 93]\n",
        "print(f'國文成績：{score[0]}分')\n",
        "print(f'英文成績：{score[1]}分')\n",
        "print(f'數學成績：{score[2]}分')\n",
        "\n",
        "\n",
        "bb =[\n",
        "     [1,2,3],\n",
        "     [4,5,6],\n",
        "     [7,8,9]\n",
        "     ]\n",
        "# 列出bb裡面所有元素\n",
        "for i in bb:\n",
        "    for j in i:\n",
        "        print(j)"
      ],
      "metadata": {
        "id": "3ThrIiWeLZF8"
      },
      "execution_count": null,
      "outputs": []
    },
    {
      "cell_type": "code",
      "source": [
        "for i in [12, 'apple', 1 <2 ]:\n",
        "    print(i)"
      ],
      "metadata": {
        "id": "UwTCKoIjOo6s"
      },
      "execution_count": null,
      "outputs": []
    },
    {
      "cell_type": "code",
      "source": [
        "aa = [1,2,3,4,5,6,7]\n",
        "len(aa)\n",
        "for i in range(len(aa)):\n",
        "    print(aa[i])"
      ],
      "metadata": {
        "id": "Ke9nxlwWT2V2"
      },
      "execution_count": null,
      "outputs": []
    },
    {
      "cell_type": "code",
      "source": [
        "\n",
        "\n",
        "\n",
        "水果 = ['蘋果','香蕉','芭樂']\n",
        "x = '芭樂'\n",
        "水果.index(x)\n",
        "\n",
        "while True:\n",
        "    x = input('請輸入水果名稱:')\n",
        "    if x in 水果:\n",
        "        水果.remove(x)\n",
        "    elif x == \"\":\n",
        "        break\n",
        "    else:\n",
        "        print('沒有該項水果')"
      ],
      "metadata": {
        "id": "uCF_U-sIu_Ks"
      },
      "execution_count": null,
      "outputs": []
    },
    {
      "cell_type": "code",
      "source": [
        "#範例實作:成績由大到小排序\n",
        "news = []\n",
        "while True:\n",
        "    x = int(input('input score:'))\n",
        "    if x !=-1:\n",
        "        news.append(x)\n",
        "    else:\n",
        "        break\n",
        "news.sort() #sort() 本身只有排序並無輸出動作\n",
        "print(news)"
      ],
      "metadata": {
        "id": "87k1vaHaxhZe"
      },
      "execution_count": null,
      "outputs": []
    },
    {
      "cell_type": "code",
      "source": [
        "# tuple與list互轉\n",
        "x = [1,2,3]\n",
        "y = tuple(x)\n",
        "z = list(y)"
      ],
      "metadata": {
        "id": "ryHsRpNCzekn"
      },
      "execution_count": null,
      "outputs": []
    },
    {
      "cell_type": "code",
      "source": [
        "#!/usr/bin/env python3\n",
        "# -*- coding: utf-8 -*-\n",
        "\"\"\"\n",
        "Created on Sat Nov  4 14:19:19 2023\n",
        "\n",
        "@author: bikego1968\n",
        "\"\"\"\n",
        "\n",
        "數學成績 = {\n",
        "    'jack': 70,\n",
        "    'cindy': 60,\n",
        "    'stanley': 80,\n",
        "}\n",
        "\n",
        "名稱 = input('請輸入名稱')\n",
        "\n",
        "if 名稱 in 數學成績:\n",
        "    print(f\"{名稱} 數學成績 : {數學成績[名稱]}\")\n",
        "else:\n",
        "    x = int(input('請輸入成績'))\n",
        "    數學成績[名稱] = x\n",
        "    print(數學成績)\n",
        "\n",
        "\n",
        "a = [1, 2, 3]\n",
        "[i for i in a]\n",
        "\n",
        "b = [i+10 for i in a]\n",
        "c = [[i, i**2, i**3]for i in a]  # 列表推導式語法\n",
        "d = [i[2] for i in c]\n",
        "\n",
        "\n",
        "[[i, j] for i in [1, 2, 3] for j in [4, 5, 6]]\n",
        "\n",
        "[i for i in range(1, 11) if i < 6]\n",
        "# 1^1, 2^2......100^100\n",
        "istar = [[i**i] for i in range(1, 100+1)]\n",
        "# 偶數的次方\n",
        "istar2 = [[i**i] for i in range(1, 100+1) if i % 2 == 0]\n",
        "\n",
        "# 字典推導式使用\n",
        "成績 = {\n",
        "    'jack': 70,\n",
        "    'cindy': 60,\n",
        "    'stanley': 80,\n",
        "}\n",
        "成績加成 = {k: v+100 for k, v in 成績.items()}\n",
        "\n",
        "# 自定義函式\n",
        "\n",
        "\n",
        "def myfuction(n):\n",
        "    n1 = n+100\n",
        "    return n1\n",
        "\n",
        "\n",
        "myfuction(50)\n",
        "myfuction(100)+50  # 函式可以直接運算\n"
      ],
      "metadata": {
        "id": "9BTGJ23yHy-_"
      },
      "execution_count": null,
      "outputs": []
    }
  ]
}