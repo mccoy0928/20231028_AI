{
  "nbformat": 4,
  "nbformat_minor": 0,
  "metadata": {
    "colab": {
      "provenance": [],
      "authorship_tag": "ABX9TyPcQmm3aJJyzXgdL2U+0/pR",
      "include_colab_link": true
    },
    "kernelspec": {
      "name": "python3",
      "display_name": "Python 3"
    },
    "language_info": {
      "name": "python"
    }
  },
  "cells": [
    {
      "cell_type": "markdown",
      "metadata": {
        "id": "view-in-github",
        "colab_type": "text"
      },
      "source": [
        "<a href=\"https://colab.research.google.com/github/mccoy0928/20231028_AI/blob/main/20231104_AI.ipynb\" target=\"_parent\"><img src=\"https://colab.research.google.com/assets/colab-badge.svg\" alt=\"Open In Colab\"/></a>"
      ]
    },
    {
      "cell_type": "markdown",
      "source": [
        "# 20231104_AI 2nd\n",
        "\n"
      ],
      "metadata": {
        "id": "k58AxXi2zJ8O"
      }
    },
    {
      "cell_type": "code",
      "execution_count": 1,
      "metadata": {
        "colab": {
          "base_uri": "https://localhost:8080/"
        },
        "id": "ydUMrxd9zH1D",
        "outputId": "f32d36c3-faee-4bad-c329-b20dc6ab7203"
      },
      "outputs": [
        {
          "output_type": "stream",
          "name": "stdout",
          "text": [
            "不用帶傘\n",
            "不用帶傘\n",
            "5050\n"
          ]
        }
      ],
      "source": [
        "是否下雨 = False\n",
        "\n",
        "if 是否下雨:\n",
        "    print('請帶傘')\n",
        "else:\n",
        "    print('不用帶傘')\n",
        "\n",
        "\n",
        "今天天氣 = '晴天'\n",
        "if 今天天氣 == '晴天':\n",
        "    print('不用帶傘')\n",
        "else:\n",
        "    print('請帶傘')\n",
        "# 1 to 100 summery\n",
        "tt = 0\n",
        "for i in range(1, 101):\n",
        "    tt += i\n",
        "print(tt)\n"
      ]
    }
  ]
}